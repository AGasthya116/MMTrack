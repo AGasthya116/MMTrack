{
 "cells": [
  {
   "cell_type": "markdown",
   "metadata": {},
   "source": [
    "# Install MMTracking"
   ]
  },
  {
   "cell_type": "markdown",
   "metadata": {},
   "source": [
    "Run this code in order to install MMCV, MMDETECTION, MMTRACKING environment\n",
    "\n",
    "Openmmlab homepage: https://openmmLab.com/\n",
    "\n",
    "Mmtracking homepage: https://github.com/open-mmlab/mmmtracking\n"
   ]
  },
  {
   "cell_type": "markdown",
   "metadata": {},
   "source": [
    "## Download and Install Pytorch "
   ]
  },
  {
   "cell_type": "code",
   "execution_count": 17,
   "metadata": {},
   "outputs": [
    {
     "name": "stdout",
     "output_type": "stream",
     "text": [
      "Looking in indexes: https://pypi.org/simple, https://pypi.ngc.nvidia.com, https://download.pytorch.org/whl/cu113\n",
      "/usr/share/python-wheels/urllib3-1.25.8-py2.py3-none-any.whl/urllib3/connectionpool.py:1004: InsecureRequestWarning: Unverified HTTPS request is being made to host 'pypi.ngc.nvidia.com'. Adding certificate verification is strongly advised. See: https://urllib3.readthedocs.io/en/latest/advanced-usage.html#ssl-warnings\n",
      "Collecting torch==1.12.1+cu113\n",
      "  Downloading https://download.pytorch.org/whl/cu113/torch-1.12.1%2Bcu113-cp38-cp38-linux_x86_64.whl (1837.7 MB)\n",
      "\u001b[K     |████████████████████████████████| 1837.7 MB 35.6 MB/s eta 0:00:012   |███▋                            | 207.4 MB 40.0 MB/s eta 0:00:41     |████                            | 230.6 MB 19.4 MB/s eta 0:01:23     |████▏                           | 242.1 MB 19.4 MB/s eta 0:01:23     |██████▋                         | 379.0 MB 1.2 MB/s eta 0:19:48MB 39.2 MB/s eta 0:00:37     |███████████████▌                | 887.1 MB 38.2 MB/s eta 0:00:25     |█████████████████               | 974.1 MB 42.5 MB/s eta 0:00:21     |██████████████████▍             | 1059.0 MB 34.5 MB/s eta 0:00:23     |███████████████████▍            | 1112.5 MB 39.0 MB/s eta 0:00:19     |████████████████████            | 1147.4 MB 39.9 MB/s eta 0:00:18     |█████████████████████           | 1204.8 MB 42.1 MB/s eta 0:00:16     |█████████████████████▊          | 1249.6 MB 39.0 MB/s eta 0:00:16     |███████████████████████▍        | 1340.2 MB 39.1 MB/s eta 0:00:13     |███████████████████████▌        | 1352.0 MB 39.1 MB/s eta 0:00:13     |████████████████████████        | 1379.3 MB 34.9 MB/s eta 0:00:14     |█████████████████████████▍      | 1456.7 MB 39.4 MB/s eta 0:00:10     |████████████████████████████▍   | 1632.2 MB 36.7 MB/s eta 0:00:06     |████████████████████████████▊   | 1650.6 MB 114.0 MB/s eta 0:00:02     |█████████████████████████████▏  | 1673.6 MB 114.0 MB/s eta 0:00:02     |██████████████████████████████  | 1724.1 MB 37.2 MB/s eta 0:00:04     |███████████████████████████████ | 1785.3 MB 34.3 MB/s eta 0:00:02     |███████████████████████████████▏| 1789.2 MB 34.3 MB/s eta 0:00:02\n",
      "\u001b[?25h/usr/share/python-wheels/urllib3-1.25.8-py2.py3-none-any.whl/urllib3/connectionpool.py:1004: InsecureRequestWarning: Unverified HTTPS request is being made to host 'pypi.ngc.nvidia.com'. Adding certificate verification is strongly advised. See: https://urllib3.readthedocs.io/en/latest/advanced-usage.html#ssl-warnings\n",
      "Collecting torchvision==0.13.1+cu113\n",
      "  Downloading https://download.pytorch.org/whl/cu113/torchvision-0.13.1%2Bcu113-cp38-cp38-linux_x86_64.whl (23.4 MB)\n",
      "\u001b[K     |████████████████████████████████| 23.4 MB 9.4 MB/s eta 0:00:01\n",
      "\u001b[?25h/usr/share/python-wheels/urllib3-1.25.8-py2.py3-none-any.whl/urllib3/connectionpool.py:1004: InsecureRequestWarning: Unverified HTTPS request is being made to host 'pypi.ngc.nvidia.com'. Adding certificate verification is strongly advised. See: https://urllib3.readthedocs.io/en/latest/advanced-usage.html#ssl-warnings\n",
      "Collecting torchaudio==0.12.1\n",
      "  Downloading https://download.pytorch.org/whl/cu113/torchaudio-0.12.1%2Bcu113-cp38-cp38-linux_x86_64.whl (3.8 MB)\n",
      "\u001b[K     |████████████████████████████████| 3.8 MB 19.9 MB/s eta 0:00:01\n",
      "\u001b[?25hRequirement already satisfied: typing-extensions in /home/agasthya/MMTrack/mmtrack/lib/python3.8/site-packages (from torch==1.12.1+cu113) (4.10.0)\n",
      "Requirement already satisfied: numpy in /home/agasthya/MMTrack/mmtrack/lib/python3.8/site-packages (from torchvision==0.13.1+cu113) (1.24.4)\n",
      "Requirement already satisfied: pillow!=8.3.*,>=5.3.0 in /home/agasthya/MMTrack/mmtrack/lib/python3.8/site-packages (from torchvision==0.13.1+cu113) (10.2.0)\n",
      "/usr/share/python-wheels/urllib3-1.25.8-py2.py3-none-any.whl/urllib3/connectionpool.py:1004: InsecureRequestWarning: Unverified HTTPS request is being made to host 'pypi.ngc.nvidia.com'. Adding certificate verification is strongly advised. See: https://urllib3.readthedocs.io/en/latest/advanced-usage.html#ssl-warnings\n",
      "Collecting requests\n",
      "  Downloading requests-2.31.0-py3-none-any.whl (62 kB)\n",
      "\u001b[K     |████████████████████████████████| 62 kB 2.7 MB/s eta 0:00:01\n",
      "\u001b[?25h/usr/share/python-wheels/urllib3-1.25.8-py2.py3-none-any.whl/urllib3/connectionpool.py:1004: InsecureRequestWarning: Unverified HTTPS request is being made to host 'pypi.ngc.nvidia.com'. Adding certificate verification is strongly advised. See: https://urllib3.readthedocs.io/en/latest/advanced-usage.html#ssl-warnings\n",
      "Collecting charset-normalizer<4,>=2\n",
      "  Downloading charset_normalizer-3.3.2-cp38-cp38-manylinux_2_17_x86_64.manylinux2014_x86_64.whl (141 kB)\n",
      "\u001b[K     |████████████████████████████████| 141 kB 4.2 MB/s eta 0:00:01\n",
      "\u001b[?25h/usr/share/python-wheels/urllib3-1.25.8-py2.py3-none-any.whl/urllib3/connectionpool.py:1004: InsecureRequestWarning: Unverified HTTPS request is being made to host 'pypi.ngc.nvidia.com'. Adding certificate verification is strongly advised. See: https://urllib3.readthedocs.io/en/latest/advanced-usage.html#ssl-warnings\n",
      "Collecting idna<4,>=2.5\n",
      "  Downloading idna-3.6-py3-none-any.whl (61 kB)\n",
      "\u001b[K     |████████████████████████████████| 61 kB 7.5 MB/s  eta 0:00:01\n",
      "\u001b[?25h/usr/share/python-wheels/urllib3-1.25.8-py2.py3-none-any.whl/urllib3/connectionpool.py:1004: InsecureRequestWarning: Unverified HTTPS request is being made to host 'pypi.ngc.nvidia.com'. Adding certificate verification is strongly advised. See: https://urllib3.readthedocs.io/en/latest/advanced-usage.html#ssl-warnings\n",
      "Collecting urllib3<3,>=1.21.1\n",
      "  Downloading urllib3-2.2.1-py3-none-any.whl (121 kB)\n",
      "\u001b[K     |████████████████████████████████| 121 kB 10.3 MB/s eta 0:00:01\n",
      "\u001b[?25h/usr/share/python-wheels/urllib3-1.25.8-py2.py3-none-any.whl/urllib3/connectionpool.py:1004: InsecureRequestWarning: Unverified HTTPS request is being made to host 'pypi.ngc.nvidia.com'. Adding certificate verification is strongly advised. See: https://urllib3.readthedocs.io/en/latest/advanced-usage.html#ssl-warnings\n",
      "Collecting certifi>=2017.4.17\n",
      "  Downloading certifi-2024.2.2-py3-none-any.whl (163 kB)\n",
      "\u001b[K     |████████████████████████████████| 163 kB 9.0 MB/s eta 0:00:01\n",
      "\u001b[?25hInstalling collected packages: torch, charset-normalizer, idna, urllib3, certifi, requests, torchvision, torchaudio\n",
      "  Attempting uninstall: torch\n",
      "    Found existing installation: torch 1.10.1+cu113\n",
      "    Uninstalling torch-1.10.1+cu113:\n",
      "      Successfully uninstalled torch-1.10.1+cu113\n",
      "  Attempting uninstall: torchvision\n",
      "    Found existing installation: torchvision 0.11.2+cu113\n",
      "    Uninstalling torchvision-0.11.2+cu113:\n",
      "      Successfully uninstalled torchvision-0.11.2+cu113\n",
      "  Attempting uninstall: torchaudio\n",
      "    Found existing installation: torchaudio 0.10.1+cu113\n",
      "    Uninstalling torchaudio-0.10.1+cu113:\n",
      "      Successfully uninstalled torchaudio-0.10.1+cu113\n",
      "Successfully installed certifi-2024.2.2 charset-normalizer-3.3.2 idna-3.6 requests-2.31.0 torch-1.12.1+cu113 torchaudio-0.12.1+cu113 torchvision-0.13.1+cu113 urllib3-2.2.1\n"
     ]
    }
   ],
   "source": [
    "# Install pytorch\n",
    "!pip install torch==1.12.1+cu113 torchvision==0.13.1+cu113 torchaudio==0.12.1 --extra-index-url https://download.pytorch.org/whl/cu113"
   ]
  },
  {
   "cell_type": "markdown",
   "metadata": {},
   "source": [
    "## Download and Install MMCV"
   ]
  },
  {
   "cell_type": "code",
   "execution_count": 18,
   "metadata": {},
   "outputs": [
    {
     "name": "stdout",
     "output_type": "stream",
     "text": [
      "Looking in indexes: https://pypi.org/simple, https://pypi.ngc.nvidia.com\n",
      "Looking in links: https://download.openmmlab.com/mmcv/dist/cu113/torch1.12/index.html\n",
      "/usr/share/python-wheels/urllib3-1.25.8-py2.py3-none-any.whl/urllib3/connectionpool.py:1004: InsecureRequestWarning: Unverified HTTPS request is being made to host 'pypi.ngc.nvidia.com'. Adding certificate verification is strongly advised. See: https://urllib3.readthedocs.io/en/latest/advanced-usage.html#ssl-warnings\n",
      "Collecting mmcv==2.1.0\n",
      "  Downloading https://download.openmmlab.com/mmcv/dist/cu113/torch1.12.0/mmcv-2.1.0-cp38-cp38-manylinux1_x86_64.whl (70.7 MB)\n",
      "\u001b[K     |████████████████████████████████| 70.7 MB 2.3 MB/s eta 0:00:011\n",
      "\u001b[?25hRequirement already satisfied: packaging in /home/agasthya/MMTrack/mmtrack/lib/python3.8/site-packages (from mmcv==2.1.0) (23.2)\n",
      "Requirement already satisfied: mmengine>=0.3.0 in /home/agasthya/MMTrack/mmtrack/lib/python3.8/site-packages (from mmcv==2.1.0) (0.10.3)\n",
      "Requirement already satisfied: pyyaml in /home/agasthya/MMTrack/mmtrack/lib/python3.8/site-packages (from mmcv==2.1.0) (6.0.1)\n",
      "Requirement already satisfied: Pillow in /home/agasthya/MMTrack/mmtrack/lib/python3.8/site-packages (from mmcv==2.1.0) (10.2.0)\n",
      "Requirement already satisfied: yapf in /home/agasthya/MMTrack/mmtrack/lib/python3.8/site-packages (from mmcv==2.1.0) (0.40.2)\n",
      "Requirement already satisfied: numpy in /home/agasthya/MMTrack/mmtrack/lib/python3.8/site-packages (from mmcv==2.1.0) (1.24.4)\n",
      "Requirement already satisfied: addict in /home/agasthya/MMTrack/mmtrack/lib/python3.8/site-packages (from mmcv==2.1.0) (2.4.0)\n",
      "Requirement already satisfied: opencv-python>=3 in /home/agasthya/MMTrack/mmtrack/lib/python3.8/site-packages (from mmcv==2.1.0) (4.9.0.80)\n",
      "Requirement already satisfied: termcolor in /home/agasthya/MMTrack/mmtrack/lib/python3.8/site-packages (from mmengine>=0.3.0->mmcv==2.1.0) (2.4.0)\n",
      "Requirement already satisfied: matplotlib in /home/agasthya/MMTrack/mmtrack/lib/python3.8/site-packages (from mmengine>=0.3.0->mmcv==2.1.0) (3.7.5)\n",
      "Requirement already satisfied: rich in /home/agasthya/MMTrack/mmtrack/lib/python3.8/site-packages (from mmengine>=0.3.0->mmcv==2.1.0) (13.4.2)\n",
      "Requirement already satisfied: platformdirs>=3.5.1 in /home/agasthya/MMTrack/mmtrack/lib/python3.8/site-packages (from yapf->mmcv==2.1.0) (4.2.0)\n",
      "Requirement already satisfied: tomli>=2.0.1 in /home/agasthya/MMTrack/mmtrack/lib/python3.8/site-packages (from yapf->mmcv==2.1.0) (2.0.1)\n",
      "Requirement already satisfied: importlib-metadata>=6.6.0 in /home/agasthya/MMTrack/mmtrack/lib/python3.8/site-packages (from yapf->mmcv==2.1.0) (7.0.1)\n",
      "Requirement already satisfied: kiwisolver>=1.0.1 in /home/agasthya/MMTrack/mmtrack/lib/python3.8/site-packages (from matplotlib->mmengine>=0.3.0->mmcv==2.1.0) (1.4.5)\n",
      "Requirement already satisfied: python-dateutil>=2.7 in /home/agasthya/MMTrack/mmtrack/lib/python3.8/site-packages (from matplotlib->mmengine>=0.3.0->mmcv==2.1.0) (2.9.0.post0)\n",
      "Requirement already satisfied: contourpy>=1.0.1 in /home/agasthya/MMTrack/mmtrack/lib/python3.8/site-packages (from matplotlib->mmengine>=0.3.0->mmcv==2.1.0) (1.1.1)\n",
      "Requirement already satisfied: importlib-resources>=3.2.0; python_version < \"3.10\" in /home/agasthya/MMTrack/mmtrack/lib/python3.8/site-packages (from matplotlib->mmengine>=0.3.0->mmcv==2.1.0) (6.1.2)\n",
      "Requirement already satisfied: fonttools>=4.22.0 in /home/agasthya/MMTrack/mmtrack/lib/python3.8/site-packages (from matplotlib->mmengine>=0.3.0->mmcv==2.1.0) (4.49.0)\n",
      "Requirement already satisfied: cycler>=0.10 in /home/agasthya/MMTrack/mmtrack/lib/python3.8/site-packages (from matplotlib->mmengine>=0.3.0->mmcv==2.1.0) (0.12.1)\n",
      "Requirement already satisfied: pyparsing>=2.3.1 in /home/agasthya/MMTrack/mmtrack/lib/python3.8/site-packages (from matplotlib->mmengine>=0.3.0->mmcv==2.1.0) (3.1.1)\n",
      "Requirement already satisfied: markdown-it-py>=2.2.0 in /home/agasthya/MMTrack/mmtrack/lib/python3.8/site-packages (from rich->mmengine>=0.3.0->mmcv==2.1.0) (3.0.0)\n",
      "Requirement already satisfied: pygments<3.0.0,>=2.13.0 in /home/agasthya/MMTrack/mmtrack/lib/python3.8/site-packages (from rich->mmengine>=0.3.0->mmcv==2.1.0) (2.17.2)\n",
      "Requirement already satisfied: typing-extensions<5.0,>=4.0.0; python_version < \"3.9\" in /home/agasthya/MMTrack/mmtrack/lib/python3.8/site-packages (from rich->mmengine>=0.3.0->mmcv==2.1.0) (4.10.0)\n",
      "Requirement already satisfied: zipp>=0.5 in /home/agasthya/MMTrack/mmtrack/lib/python3.8/site-packages (from importlib-metadata>=6.6.0->yapf->mmcv==2.1.0) (3.17.0)\n",
      "Requirement already satisfied: six>=1.5 in /home/agasthya/MMTrack/mmtrack/lib/python3.8/site-packages (from python-dateutil>=2.7->matplotlib->mmengine>=0.3.0->mmcv==2.1.0) (1.16.0)\n",
      "Requirement already satisfied: mdurl~=0.1 in /home/agasthya/MMTrack/mmtrack/lib/python3.8/site-packages (from markdown-it-py>=2.2.0->rich->mmengine>=0.3.0->mmcv==2.1.0) (0.1.2)\n",
      "Installing collected packages: mmcv\n",
      "Successfully installed mmcv-2.1.0\n"
     ]
    }
   ],
   "source": [
    "# Install mmcv \n",
    "!pip install mmcv==2.1.0 -f https://download.openmmlab.com/mmcv/dist/cu113/torch1.12/index.html"
   ]
  },
  {
   "cell_type": "markdown",
   "metadata": {},
   "source": [
    "## Install other tool packs"
   ]
  },
  {
   "cell_type": "code",
   "execution_count": 19,
   "metadata": {},
   "outputs": [
    {
     "name": "stdout",
     "output_type": "stream",
     "text": [
      "Looking in indexes: https://pypi.tuna.tsinghua.edu.cn/simple, https://pypi.ngc.nvidia.com\n",
      "Requirement already satisfied: mmdet in /home/agasthya/MMTrack/mmtrack/lib/python3.8/site-packages (3.3.0)\n",
      "Requirement already satisfied: seaborn in /home/agasthya/MMTrack/mmtrack/lib/python3.8/site-packages (0.13.2)\n",
      "Requirement already satisfied: ipywidgets in /home/agasthya/MMTrack/mmtrack/lib/python3.8/site-packages (8.1.2)\n",
      "Requirement already satisfied: tqdm in /home/agasthya/MMTrack/mmtrack/lib/python3.8/site-packages (4.65.0)\n",
      "Requirement already satisfied: imageio-ffmpeg in /home/agasthya/MMTrack/mmtrack/lib/python3.8/site-packages (0.4.9)\n",
      "Requirement already satisfied: ninja in /home/agasthya/MMTrack/mmtrack/lib/python3.8/site-packages (1.11.1.1)\n",
      "Requirement already satisfied: six in /home/agasthya/MMTrack/mmtrack/lib/python3.8/site-packages (from mmdet) (1.16.0)\n",
      "Requirement already satisfied: terminaltables in /home/agasthya/MMTrack/mmtrack/lib/python3.8/site-packages (from mmdet) (3.1.10)\n",
      "Requirement already satisfied: matplotlib in /home/agasthya/MMTrack/mmtrack/lib/python3.8/site-packages (from mmdet) (3.7.5)\n",
      "Requirement already satisfied: numpy in /home/agasthya/MMTrack/mmtrack/lib/python3.8/site-packages (from mmdet) (1.24.4)\n",
      "Requirement already satisfied: scipy in /home/agasthya/MMTrack/mmtrack/lib/python3.8/site-packages (from mmdet) (1.7.3)\n",
      "Requirement already satisfied: pycocotools in /home/agasthya/MMTrack/mmtrack/lib/python3.8/site-packages (from mmdet) (2.0.7)\n",
      "Requirement already satisfied: shapely in /home/agasthya/MMTrack/mmtrack/lib/python3.8/site-packages (from mmdet) (2.0.3)\n",
      "Requirement already satisfied: pandas>=1.2 in /home/agasthya/MMTrack/mmtrack/lib/python3.8/site-packages (from seaborn) (1.3.5)\n",
      "Requirement already satisfied: jupyterlab-widgets~=3.0.10 in /home/agasthya/MMTrack/mmtrack/lib/python3.8/site-packages (from ipywidgets) (3.0.10)\n",
      "Requirement already satisfied: widgetsnbextension~=4.0.10 in /home/agasthya/MMTrack/mmtrack/lib/python3.8/site-packages (from ipywidgets) (4.0.10)\n",
      "Requirement already satisfied: traitlets>=4.3.1 in /home/agasthya/MMTrack/mmtrack/lib/python3.8/site-packages (from ipywidgets) (5.14.1)\n",
      "Requirement already satisfied: comm>=0.1.3 in /home/agasthya/MMTrack/mmtrack/lib/python3.8/site-packages (from ipywidgets) (0.2.1)\n",
      "Requirement already satisfied: ipython>=6.1.0 in /home/agasthya/MMTrack/mmtrack/lib/python3.8/site-packages (from ipywidgets) (8.12.3)\n",
      "Requirement already satisfied: setuptools in /home/agasthya/MMTrack/mmtrack/lib/python3.8/site-packages (from imageio-ffmpeg) (60.2.0)\n",
      "Requirement already satisfied: contourpy>=1.0.1 in /home/agasthya/MMTrack/mmtrack/lib/python3.8/site-packages (from matplotlib->mmdet) (1.1.1)\n",
      "Requirement already satisfied: importlib-resources>=3.2.0; python_version < \"3.10\" in /home/agasthya/MMTrack/mmtrack/lib/python3.8/site-packages (from matplotlib->mmdet) (6.1.2)\n",
      "Requirement already satisfied: packaging>=20.0 in /home/agasthya/MMTrack/mmtrack/lib/python3.8/site-packages (from matplotlib->mmdet) (23.2)\n",
      "Requirement already satisfied: fonttools>=4.22.0 in /home/agasthya/MMTrack/mmtrack/lib/python3.8/site-packages (from matplotlib->mmdet) (4.49.0)\n",
      "Requirement already satisfied: pillow>=6.2.0 in /home/agasthya/MMTrack/mmtrack/lib/python3.8/site-packages (from matplotlib->mmdet) (10.2.0)\n",
      "Requirement already satisfied: python-dateutil>=2.7 in /home/agasthya/MMTrack/mmtrack/lib/python3.8/site-packages (from matplotlib->mmdet) (2.9.0.post0)\n",
      "Requirement already satisfied: kiwisolver>=1.0.1 in /home/agasthya/MMTrack/mmtrack/lib/python3.8/site-packages (from matplotlib->mmdet) (1.4.5)\n",
      "Requirement already satisfied: pyparsing>=2.3.1 in /home/agasthya/MMTrack/mmtrack/lib/python3.8/site-packages (from matplotlib->mmdet) (3.1.1)\n",
      "Requirement already satisfied: cycler>=0.10 in /home/agasthya/MMTrack/mmtrack/lib/python3.8/site-packages (from matplotlib->mmdet) (0.12.1)\n",
      "Requirement already satisfied: pytz>=2017.3 in /home/agasthya/MMTrack/mmtrack/lib/python3.8/site-packages (from pandas>=1.2->seaborn) (2023.3)\n",
      "Requirement already satisfied: jedi>=0.16 in /home/agasthya/MMTrack/mmtrack/lib/python3.8/site-packages (from ipython>=6.1.0->ipywidgets) (0.19.1)\n",
      "Requirement already satisfied: typing-extensions; python_version < \"3.10\" in /home/agasthya/MMTrack/mmtrack/lib/python3.8/site-packages (from ipython>=6.1.0->ipywidgets) (4.10.0)\n",
      "Requirement already satisfied: decorator in /home/agasthya/MMTrack/mmtrack/lib/python3.8/site-packages (from ipython>=6.1.0->ipywidgets) (5.1.1)\n",
      "Requirement already satisfied: pygments>=2.4.0 in /home/agasthya/MMTrack/mmtrack/lib/python3.8/site-packages (from ipython>=6.1.0->ipywidgets) (2.17.2)\n",
      "Requirement already satisfied: backcall in /home/agasthya/MMTrack/mmtrack/lib/python3.8/site-packages (from ipython>=6.1.0->ipywidgets) (0.2.0)\n",
      "Requirement already satisfied: prompt-toolkit!=3.0.37,<3.1.0,>=3.0.30 in /home/agasthya/MMTrack/mmtrack/lib/python3.8/site-packages (from ipython>=6.1.0->ipywidgets) (3.0.43)\n",
      "Requirement already satisfied: pexpect>4.3; sys_platform != \"win32\" in /home/agasthya/MMTrack/mmtrack/lib/python3.8/site-packages (from ipython>=6.1.0->ipywidgets) (4.9.0)\n",
      "Requirement already satisfied: pickleshare in /home/agasthya/MMTrack/mmtrack/lib/python3.8/site-packages (from ipython>=6.1.0->ipywidgets) (0.7.5)\n",
      "Requirement already satisfied: matplotlib-inline in /home/agasthya/MMTrack/mmtrack/lib/python3.8/site-packages (from ipython>=6.1.0->ipywidgets) (0.1.6)\n",
      "Requirement already satisfied: stack-data in /home/agasthya/MMTrack/mmtrack/lib/python3.8/site-packages (from ipython>=6.1.0->ipywidgets) (0.6.3)\n",
      "Requirement already satisfied: zipp>=3.1.0; python_version < \"3.10\" in /home/agasthya/MMTrack/mmtrack/lib/python3.8/site-packages (from importlib-resources>=3.2.0; python_version < \"3.10\"->matplotlib->mmdet) (3.17.0)\n",
      "Requirement already satisfied: parso<0.9.0,>=0.8.3 in /home/agasthya/MMTrack/mmtrack/lib/python3.8/site-packages (from jedi>=0.16->ipython>=6.1.0->ipywidgets) (0.8.3)\n",
      "Requirement already satisfied: wcwidth in /home/agasthya/MMTrack/mmtrack/lib/python3.8/site-packages (from prompt-toolkit!=3.0.37,<3.1.0,>=3.0.30->ipython>=6.1.0->ipywidgets) (0.2.13)\n",
      "Requirement already satisfied: ptyprocess>=0.5 in /home/agasthya/MMTrack/mmtrack/lib/python3.8/site-packages (from pexpect>4.3; sys_platform != \"win32\"->ipython>=6.1.0->ipywidgets) (0.7.0)\n",
      "Requirement already satisfied: asttokens>=2.1.0 in /home/agasthya/MMTrack/mmtrack/lib/python3.8/site-packages (from stack-data->ipython>=6.1.0->ipywidgets) (2.4.1)\n",
      "Requirement already satisfied: pure-eval in /home/agasthya/MMTrack/mmtrack/lib/python3.8/site-packages (from stack-data->ipython>=6.1.0->ipywidgets) (0.2.2)\n",
      "Requirement already satisfied: executing>=1.2.0 in /home/agasthya/MMTrack/mmtrack/lib/python3.8/site-packages (from stack-data->ipython>=6.1.0->ipywidgets) (2.0.1)\n"
     ]
    }
   ],
   "source": [
    "!pip install mmdet seaborn ipywidgets tqdm imageio-ffmpeg ninja -i https://pypi.tuna.tsinghua.edu.cn/simple"
   ]
  },
  {
   "cell_type": "markdown",
   "metadata": {},
   "source": [
    "## Download MMTracking"
   ]
  },
  {
   "cell_type": "code",
   "execution_count": 5,
   "metadata": {},
   "outputs": [],
   "source": [
    "# Delete the original mmtracking folder (if any)\n",
    "!rm -rf mmtracking"
   ]
  },
  {
   "cell_type": "code",
   "execution_count": 6,
   "metadata": {},
   "outputs": [
    {
     "name": "stdout",
     "output_type": "stream",
     "text": [
      "Cloning into 'mmtracking'...\n",
      "remote: Enumerating objects: 7927, done.\u001b[K\n",
      "remote: Counting objects: 100% (12/12), done.\u001b[K\n",
      "remote: Compressing objects: 100% (12/12), done.\u001b[K\n",
      "remote: Total 7927 (delta 0), reused 5 (delta 0), pack-reused 7915\u001b[K\n",
      "Receiving objects: 100% (7927/7927), 2.91 MiB | 2.98 MiB/s, done.\n",
      "Resolving deltas: 100% (5021/5021), done.\n"
     ]
    }
   ],
   "source": [
    "# Clone the latest MMTracking source code from github\n",
    "!git clone https://github.com/open-mmlab/mmtracking.git"
   ]
  },
  {
   "cell_type": "markdown",
   "metadata": {},
   "source": [
    "## Install MMTracking dependencies "
   ]
  },
  {
   "cell_type": "code",
   "execution_count": 1,
   "metadata": {},
   "outputs": [],
   "source": [
    "import os\n",
    "os.chdir('mmtracking')"
   ]
  },
  {
   "cell_type": "code",
   "execution_count": 20,
   "metadata": {},
   "outputs": [
    {
     "name": "stdout",
     "output_type": "stream",
     "text": [
      "Looking in indexes: https://pypi.org/simple, https://pypi.ngc.nvidia.com\n",
      "Requirement already satisfied: cython in /home/agasthya/MMTrack/mmtrack/lib/python3.8/site-packages (from -r requirements/build.txt (line 1)) (3.0.8)\n",
      "Requirement already satisfied: numpy in /home/agasthya/MMTrack/mmtrack/lib/python3.8/site-packages (from -r requirements/build.txt (line 2)) (1.24.4)\n",
      "Non-user install because user site-packages disabled\n",
      "Created temporary directory: /tmp/pip-ephem-wheel-cache-yc7atgyf\n",
      "Created temporary directory: /tmp/pip-req-tracker-2adywgb3\n",
      "Initialized build tracking at /tmp/pip-req-tracker-2adywgb3\n",
      "Created build tracker: /tmp/pip-req-tracker-2adywgb3\n",
      "Entered build tracker: /tmp/pip-req-tracker-2adywgb3\n",
      "Created temporary directory: /tmp/pip-install-tfhhoskv\n",
      "Looking in indexes: https://pypi.org/simple, https://pypi.ngc.nvidia.com\n",
      "Obtaining file:///home/agasthya/MMTrack/mmtracking\n",
      "  Added file:///home/agasthya/MMTrack/mmtracking to build tracker '/tmp/pip-req-tracker-2adywgb3'\n",
      "    Running setup.py (path:/home/agasthya/MMTrack/mmtracking/setup.py) egg_info for package from file:///home/agasthya/MMTrack/mmtracking\n",
      "    Running command python setup.py egg_info\n",
      "    running egg_info\n",
      "    writing manifest file 'mmtrack.egg-info/SOURCES.txt'\n",
      "  Source in /home/agasthya/MMTrack/mmtracking has version 0.14.0, which satisfies requirement mmtrack==0.14.0 from file:///home/agasthya/MMTrack/mmtracking\n",
      "  Removed mmtrack==0.14.0 from file:///home/agasthya/MMTrack/mmtracking from build tracker '/tmp/pip-req-tracker-2adywgb3'\n",
      "Requirement already satisfied: attributee in /home/agasthya/MMTrack/mmtrack/lib/python3.8/site-packages (from mmtrack==0.14.0) (0.1.8)\n",
      "Requirement already satisfied: dotty_dict in /home/agasthya/MMTrack/mmtrack/lib/python3.8/site-packages (from mmtrack==0.14.0) (1.3.1)\n",
      "Requirement already satisfied: einops in /home/agasthya/MMTrack/mmtrack/lib/python3.8/site-packages (from mmtrack==0.14.0) (0.7.0)\n",
      "Requirement already satisfied: lap in /home/agasthya/MMTrack/mmtrack/lib/python3.8/site-packages (from mmtrack==0.14.0) (0.4.0)\n",
      "Requirement already satisfied: matplotlib in /home/agasthya/MMTrack/mmtrack/lib/python3.8/site-packages (from mmtrack==0.14.0) (3.7.5)\n",
      "Requirement already satisfied: mmcls<1.0.0,>=0.16.0 in /home/agasthya/MMTrack/mmtrack/lib/python3.8/site-packages (from mmtrack==0.14.0) (0.25.0)\n",
      "Requirement already satisfied: motmetrics in /home/agasthya/MMTrack/mmtrack/lib/python3.8/site-packages (from mmtrack==0.14.0) (1.4.0)\n",
      "Requirement already satisfied: packaging in /home/agasthya/MMTrack/mmtrack/lib/python3.8/site-packages (from mmtrack==0.14.0) (23.2)\n",
      "Requirement already satisfied: pandas<=1.3.5 in /home/agasthya/MMTrack/mmtrack/lib/python3.8/site-packages (from mmtrack==0.14.0) (1.3.5)\n",
      "Requirement already satisfied: pycocotools in /home/agasthya/MMTrack/mmtrack/lib/python3.8/site-packages (from mmtrack==0.14.0) (2.0.7)\n",
      "Requirement already satisfied: scipy<=1.7.3 in /home/agasthya/MMTrack/mmtrack/lib/python3.8/site-packages (from mmtrack==0.14.0) (1.7.3)\n",
      "Requirement already satisfied: seaborn in /home/agasthya/MMTrack/mmtrack/lib/python3.8/site-packages (from mmtrack==0.14.0) (0.13.2)\n",
      "Requirement already satisfied: terminaltables in /home/agasthya/MMTrack/mmtrack/lib/python3.8/site-packages (from mmtrack==0.14.0) (3.1.10)\n",
      "Requirement already satisfied: tqdm in /home/agasthya/MMTrack/mmtrack/lib/python3.8/site-packages (from mmtrack==0.14.0) (4.65.0)\n",
      "Requirement already satisfied: kiwisolver>=1.0.1 in /home/agasthya/MMTrack/mmtrack/lib/python3.8/site-packages (from matplotlib->mmtrack==0.14.0) (1.4.5)\n",
      "Requirement already satisfied: numpy<2,>=1.20 in /home/agasthya/MMTrack/mmtrack/lib/python3.8/site-packages (from matplotlib->mmtrack==0.14.0) (1.24.4)\n",
      "Requirement already satisfied: pillow>=6.2.0 in /home/agasthya/MMTrack/mmtrack/lib/python3.8/site-packages (from matplotlib->mmtrack==0.14.0) (10.2.0)\n",
      "Requirement already satisfied: pyparsing>=2.3.1 in /home/agasthya/MMTrack/mmtrack/lib/python3.8/site-packages (from matplotlib->mmtrack==0.14.0) (3.1.1)\n",
      "Requirement already satisfied: cycler>=0.10 in /home/agasthya/MMTrack/mmtrack/lib/python3.8/site-packages (from matplotlib->mmtrack==0.14.0) (0.12.1)\n",
      "Requirement already satisfied: contourpy>=1.0.1 in /home/agasthya/MMTrack/mmtrack/lib/python3.8/site-packages (from matplotlib->mmtrack==0.14.0) (1.1.1)\n",
      "Requirement already satisfied: python-dateutil>=2.7 in /home/agasthya/MMTrack/mmtrack/lib/python3.8/site-packages (from matplotlib->mmtrack==0.14.0) (2.9.0.post0)\n",
      "Requirement already satisfied: fonttools>=4.22.0 in /home/agasthya/MMTrack/mmtrack/lib/python3.8/site-packages (from matplotlib->mmtrack==0.14.0) (4.49.0)\n",
      "Requirement already satisfied: importlib-resources>=3.2.0; python_version < \"3.10\" in /home/agasthya/MMTrack/mmtrack/lib/python3.8/site-packages (from matplotlib->mmtrack==0.14.0) (6.1.2)\n",
      "Requirement already satisfied: xmltodict>=0.12.0 in /home/agasthya/MMTrack/mmtrack/lib/python3.8/site-packages (from motmetrics->mmtrack==0.14.0) (0.13.0)\n",
      "Requirement already satisfied: pytz>=2017.3 in /home/agasthya/MMTrack/mmtrack/lib/python3.8/site-packages (from pandas<=1.3.5->mmtrack==0.14.0) (2023.3)\n",
      "Requirement already satisfied: six>=1.5 in /home/agasthya/MMTrack/mmtrack/lib/python3.8/site-packages (from python-dateutil>=2.7->matplotlib->mmtrack==0.14.0) (1.16.0)\n",
      "Requirement already satisfied: zipp>=3.1.0; python_version < \"3.10\" in /home/agasthya/MMTrack/mmtrack/lib/python3.8/site-packages (from importlib-resources>=3.2.0; python_version < \"3.10\"->matplotlib->mmtrack==0.14.0) (3.17.0)\n",
      "Installing collected packages: mmtrack\n",
      "  Attempting uninstall: mmtrack\n",
      "    Found existing installation: mmtrack 0.14.0\n",
      "    Uninstalling mmtrack-0.14.0:\n",
      "      Created temporary directory: /tmp/pip-uninstall-s5h467_k\n",
      "      Removing file or directory /home/agasthya/MMTrack/mmtrack/lib/python3.8/site-packages/mmtrack.egg-link\n",
      "      Removing pth entries from /home/agasthya/MMTrack/mmtrack/lib/python3.8/site-packages/easy-install.pth:\n",
      "      Removing entry: /home/agasthya/MMTrack/mmtracking\n",
      "      Successfully uninstalled mmtrack-0.14.0\n",
      "  Running setup.py develop for mmtrack\n",
      "    Running command /home/agasthya/MMTrack/mmtrack/bin/python3.8 -c 'import sys, setuptools, tokenize; sys.argv[0] = '\"'\"'/home/agasthya/MMTrack/mmtracking/setup.py'\"'\"'; __file__='\"'\"'/home/agasthya/MMTrack/mmtracking/setup.py'\"'\"';f=getattr(tokenize, '\"'\"'open'\"'\"', open)(__file__);code=f.read().replace('\"'\"'\\r\\n'\"'\"', '\"'\"'\\n'\"'\"');f.close();exec(compile(code, __file__, '\"'\"'exec'\"'\"'))' develop --no-deps\n",
      "    running develop\n",
      "    /home/agasthya/MMTrack/mmtrack/lib/python3.8/site-packages/setuptools/command/easy_install.py:156: EasyInstallDeprecationWarning: easy_install command is deprecated. Use build and pip and other standards-based tools.\n",
      "      warnings.warn(\n",
      "    /home/agasthya/MMTrack/mmtrack/lib/python3.8/site-packages/setuptools/command/install.py:34: SetuptoolsDeprecationWarning: setup.py install is deprecated. Use build and pip and other standards-based tools.\n",
      "      warnings.warn(\n",
      "    running egg_info\n",
      "    writing manifest file 'mmtrack.egg-info/SOURCES.txt'\n",
      "    running build_ext\n",
      "Successfully installed mmtrack\n",
      "Cleaning up...\n",
      "Removed build tracker: '/tmp/pip-req-tracker-2adywgb3'\n"
     ]
    }
   ],
   "source": [
    "!pip install -r requirements/build.txt\n",
    "!pip install -v -e ."
   ]
  },
  {
   "cell_type": "markdown",
   "metadata": {},
   "source": [
    "Installation of additional dependencies (selective installation)"
   ]
  },
  {
   "cell_type": "code",
   "execution_count": 9,
   "metadata": {},
   "outputs": [
    {
     "name": "stdout",
     "output_type": "stream",
     "text": [
      "Looking in indexes: https://pypi.org/simple, https://pypi.ngc.nvidia.com\n",
      "Collecting git+https://github.com/JonathonLuiten/TrackEval.git\n",
      "  Cloning https://github.com/JonathonLuiten/TrackEval.git to /tmp/pip-req-build-u45ivkb6\n",
      "  Running command git clone -q https://github.com/JonathonLuiten/TrackEval.git /tmp/pip-req-build-u45ivkb6\n",
      "  Installing build dependencies ... \u001b[?25ldone\n",
      "\u001b[?25h  Getting requirements to build wheel ... \u001b[?25ldone\n",
      "\u001b[?25h    Preparing wheel metadata ... \u001b[?25ldone\n",
      "\u001b[?25hRequirement already satisfied: numpy in /home/agasthya/MMTrack/mmtrack/lib/python3.8/site-packages (from trackeval==1.0.dev1) (1.24.4)\n",
      "Requirement already satisfied: scipy in /home/agasthya/MMTrack/mmtrack/lib/python3.8/site-packages (from trackeval==1.0.dev1) (1.7.3)\n",
      "Building wheels for collected packages: trackeval\n",
      "  Building wheel for trackeval (PEP 517) ... \u001b[?25ldone\n",
      "\u001b[?25h  Created wheel for trackeval: filename=trackeval-1.0.dev1-py3-none-any.whl size=149965 sha256=d0351a749c35a74d5dc9376d41865f0cd02e4e0029d9ce304e5dbf71e1d90b9a\n",
      "  Stored in directory: /tmp/pip-ephem-wheel-cache-gt5lb_kf/wheels/6a/fa/5a/1d8d3c516caef97801da87a01907e229515881e87f7d6fa3f8\n",
      "Successfully built trackeval\n",
      "Installing collected packages: trackeval\n",
      "Successfully installed trackeval-1.0.dev1\n"
     ]
    }
   ],
   "source": [
    "# MOT Challenge evaluation\n",
    "!pip install git+https://github.com/JonathonLuiten/TrackEval.git\n",
    "\n",
    "# VOT Challenge\n",
    "# !pip install git+https://github.com/votchallenge/toolkit.git\n",
    "\n",
    "# LVIS evaluation\n",
    "# !pip install git+https://github.com/lvis-dataset/lvis-api.git\n",
    "\n",
    "# TAO evaluation\n",
    "# !pip install git+https://github.com/TAO-Dataset/tao.git\n"
   ]
  },
  {
   "cell_type": "markdown",
   "metadata": {},
   "source": [
    "Download pre -training model weight file and video material"
   ]
  },
  {
   "cell_type": "code",
   "execution_count": 1,
   "metadata": {},
   "outputs": [],
   "source": [
    "import os\n",
    "\n",
    "# Create Checkpoints folder for storing the training model weight file\n",
    "os.mkdir('checkpoints')\n",
    "\n",
    "# Create an Outputs folder for storing prediction results\n",
    "os.mkdir('outputs')\n",
    "\n",
    "# Create a data folder for storing video\n",
    "os.mkdir('data')"
   ]
  },
  {
   "cell_type": "code",
   "execution_count": 2,
   "metadata": {},
   "outputs": [
    {
     "data": {
      "text/plain": [
       "'/home/agasthya/MMTrack/mmtracking'"
      ]
     },
     "execution_count": 2,
     "metadata": {},
     "output_type": "execute_result"
    }
   ],
   "source": [
    "pwd"
   ]
  },
  {
   "cell_type": "markdown",
   "metadata": {},
   "source": [
    "## Download material"
   ]
  },
  {
   "cell_type": "code",
   "execution_count": 12,
   "metadata": {},
   "outputs": [
    {
     "name": "stdout",
     "output_type": "stream",
     "text": [
      "--2024-03-05 15:09:18--  https://zihao-openmmlab.obs.cn-east-3.myhuaweicloud.com/20220418-mmtracking/data/bee.mp4\n",
      "Resolving zihao-openmmlab.obs.cn-east-3.myhuaweicloud.com (zihao-openmmlab.obs.cn-east-3.myhuaweicloud.com)... 64:ff9b::7924:eb84, 121.36.235.132\n",
      "Connecting to zihao-openmmlab.obs.cn-east-3.myhuaweicloud.com (zihao-openmmlab.obs.cn-east-3.myhuaweicloud.com)|64:ff9b::7924:eb84|:443... connected.\n",
      "HTTP request sent, awaiting response... 200 OK\n",
      "Length: 3742915 (3.6M) [video/mp4]\n",
      "Saving to: ‘data/bee.mp4’\n",
      "\n",
      "data/bee.mp4        100%[===================>]   3.57M  1.09MB/s    in 3.3s    \n",
      "\n",
      "2024-03-05 15:09:31 (1.09 MB/s) - ‘data/bee.mp4’ saved [3742915/3742915]\n",
      "\n",
      "--2024-03-05 15:09:32--  https://zihao-openmmlab.obs.cn-east-3.myhuaweicloud.com/20220418-mmtracking/data/billiards1.mp4\n",
      "Resolving zihao-openmmlab.obs.cn-east-3.myhuaweicloud.com (zihao-openmmlab.obs.cn-east-3.myhuaweicloud.com)... 64:ff9b::7924:eb84, 121.36.235.132\n",
      "Connecting to zihao-openmmlab.obs.cn-east-3.myhuaweicloud.com (zihao-openmmlab.obs.cn-east-3.myhuaweicloud.com)|64:ff9b::7924:eb84|:443... connected.\n",
      "HTTP request sent, awaiting response... 200 OK\n",
      "Length: 337375 (329K) [video/mp4]\n",
      "Saving to: ‘data/billiards1.mp4’\n",
      "\n",
      "data/billiards1.mp4 100%[===================>] 329.47K   196KB/s    in 1.7s    \n",
      "\n",
      "2024-03-05 15:09:36 (196 KB/s) - ‘data/billiards1.mp4’ saved [337375/337375]\n",
      "\n",
      "--2024-03-05 15:09:37--  https://zihao-openmmlab.obs.cn-east-3.myhuaweicloud.com/20220418-mmtracking/data/billiards2.mp4\n",
      "Resolving zihao-openmmlab.obs.cn-east-3.myhuaweicloud.com (zihao-openmmlab.obs.cn-east-3.myhuaweicloud.com)... 64:ff9b::7924:eb84, 121.36.235.132\n",
      "Connecting to zihao-openmmlab.obs.cn-east-3.myhuaweicloud.com (zihao-openmmlab.obs.cn-east-3.myhuaweicloud.com)|64:ff9b::7924:eb84|:443... connected.\n",
      "HTTP request sent, awaiting response... 200 OK\n",
      "Length: 308631 (301K) [video/mp4]\n",
      "Saving to: ‘data/billiards2.mp4’\n",
      "\n",
      "data/billiards2.mp4 100%[===================>] 301.40K   182KB/s    in 1.7s    \n",
      "\n",
      "2024-03-05 15:09:40 (182 KB/s) - ‘data/billiards2.mp4’ saved [308631/308631]\n",
      "\n",
      "--2024-03-05 15:09:41--  https://zihao-openmmlab.obs.cn-east-3.myhuaweicloud.com/20220418-mmtracking/data/billiards3.mp4\n",
      "Resolving zihao-openmmlab.obs.cn-east-3.myhuaweicloud.com (zihao-openmmlab.obs.cn-east-3.myhuaweicloud.com)... 64:ff9b::7924:eb84, 121.36.235.132\n",
      "Connecting to zihao-openmmlab.obs.cn-east-3.myhuaweicloud.com (zihao-openmmlab.obs.cn-east-3.myhuaweicloud.com)|64:ff9b::7924:eb84|:443... connected.\n",
      "HTTP request sent, awaiting response... 200 OK\n",
      "Length: 1482753 (1.4M) [video/mp4]\n",
      "Saving to: ‘data/billiards3.mp4’\n",
      "\n",
      "data/billiards3.mp4 100%[===================>]   1.41M   582KB/s    in 2.5s    \n",
      "\n",
      "2024-03-05 15:09:46 (582 KB/s) - ‘data/billiards3.mp4’ saved [1482753/1482753]\n",
      "\n",
      "--2024-03-05 15:09:47--  https://zihao-openmmlab.obs.cn-east-3.myhuaweicloud.com/20220418-mmtracking/data/billiards4.mp4\n",
      "Resolving zihao-openmmlab.obs.cn-east-3.myhuaweicloud.com (zihao-openmmlab.obs.cn-east-3.myhuaweicloud.com)... 64:ff9b::7924:eb84, 121.36.235.132\n",
      "Connecting to zihao-openmmlab.obs.cn-east-3.myhuaweicloud.com (zihao-openmmlab.obs.cn-east-3.myhuaweicloud.com)|64:ff9b::7924:eb84|:443... connected.\n",
      "HTTP request sent, awaiting response... 200 OK\n",
      "Length: 429757 (420K) [video/mp4]\n",
      "Saving to: ‘data/billiards4.mp4’\n",
      "\n",
      "data/billiards4.mp4 100%[===================>] 419.68K   235KB/s    in 1.8s    \n",
      "\n",
      "2024-03-05 15:09:51 (235 KB/s) - ‘data/billiards4.mp4’ saved [429757/429757]\n",
      "\n",
      "--2024-03-05 15:09:52--  https://zihao-openmmlab.obs.cn-east-3.myhuaweicloud.com/20220418-mmtracking/data/mot_people_short.mp4\n",
      "Resolving zihao-openmmlab.obs.cn-east-3.myhuaweicloud.com (zihao-openmmlab.obs.cn-east-3.myhuaweicloud.com)... 64:ff9b::7924:eb84, 121.36.235.132\n",
      "Connecting to zihao-openmmlab.obs.cn-east-3.myhuaweicloud.com (zihao-openmmlab.obs.cn-east-3.myhuaweicloud.com)|64:ff9b::7924:eb84|:443... connected.\n",
      "HTTP request sent, awaiting response... 200 OK\n",
      "Length: 1392164 (1.3M) [video/mp4]\n",
      "Saving to: ‘data/mot_people_short.mp4’\n",
      "\n",
      "data/mot_people_sho 100%[===================>]   1.33M   541KB/s    in 2.5s    \n",
      "\n",
      "2024-03-05 15:09:56 (541 KB/s) - ‘data/mot_people_short.mp4’ saved [1392164/1392164]\n",
      "\n",
      "--2024-03-05 15:09:57--  https://zihao-openmmlab.obs.cn-east-3.myhuaweicloud.com/20220418-mmtracking/data/mot_people_medium.mp4\n",
      "Resolving zihao-openmmlab.obs.cn-east-3.myhuaweicloud.com (zihao-openmmlab.obs.cn-east-3.myhuaweicloud.com)... 64:ff9b::7924:eb84, 121.36.235.132\n",
      "Connecting to zihao-openmmlab.obs.cn-east-3.myhuaweicloud.com (zihao-openmmlab.obs.cn-east-3.myhuaweicloud.com)|64:ff9b::7924:eb84|:443... connected.\n",
      "HTTP request sent, awaiting response... 200 OK\n",
      "Length: 11447206 (11M) [video/mp4]\n",
      "Saving to: ‘data/mot_people_medium.mp4’\n",
      "\n",
      "data/mot_people_med 100%[===================>]  10.92M  3.27MB/s    in 4.8s    \n",
      "\n",
      "2024-03-05 15:10:03 (2.26 MB/s) - ‘data/mot_people_medium.mp4’ saved [11447206/11447206]\n",
      "\n",
      "--2024-03-05 15:10:04--  https://zihao-openmmlab.obs.cn-east-3.myhuaweicloud.com/20220418-mmtracking/data/mot_people_long.mp4\n",
      "Resolving zihao-openmmlab.obs.cn-east-3.myhuaweicloud.com (zihao-openmmlab.obs.cn-east-3.myhuaweicloud.com)... 64:ff9b::7924:eb84, 121.36.235.132\n",
      "Connecting to zihao-openmmlab.obs.cn-east-3.myhuaweicloud.com (zihao-openmmlab.obs.cn-east-3.myhuaweicloud.com)|64:ff9b::7924:eb84|:443... connected.\n",
      "HTTP request sent, awaiting response... 200 OK\n",
      "Length: 109529289 (104M) [video/mp4]\n",
      "Saving to: ‘data/mot_people_long.mp4’\n",
      "\n",
      "data/mot_people_lon 100%[===================>] 104.46M  4.75MB/s    in 27s     \n",
      "\n",
      "2024-03-05 15:10:35 (3.83 MB/s) - ‘data/mot_people_long.mp4’ saved [109529289/109529289]\n",
      "\n",
      "--2024-03-05 15:10:35--  https://zihao-openmmlab.obs.cn-east-3.myhuaweicloud.com/20220418-mmtracking/data/gt_box_file.txt\n",
      "Resolving zihao-openmmlab.obs.cn-east-3.myhuaweicloud.com (zihao-openmmlab.obs.cn-east-3.myhuaweicloud.com)... 64:ff9b::7924:eb84, 121.36.235.132\n",
      "Connecting to zihao-openmmlab.obs.cn-east-3.myhuaweicloud.com (zihao-openmmlab.obs.cn-east-3.myhuaweicloud.com)|64:ff9b::7924:eb84|:443... connected.\n",
      "HTTP request sent, awaiting response... 200 OK\n",
      "Length: 15 [text/plain]\n",
      "Saving to: ‘data/gt_box_file.txt’\n",
      "\n",
      "data/gt_box_file.tx 100%[===================>]      15  --.-KB/s    in 0.006s  \n",
      "\n",
      "2024-03-05 15:10:42 (2.61 KB/s) - ‘data/gt_box_file.txt’ saved [15/15]\n",
      "\n"
     ]
    }
   ],
   "source": [
    "# Bee video, source：https://www.youtube.com/watch?v=45mKyCpoDBo\n",
    "!wget https://zihao-openmmlab.obs.cn-east-3.myhuaweicloud.com/20220418-mmtracking/data/bee.mp4 -O data/bee.mp4\n",
    "\n",
    "# Fancy billiard video, source：https://www.youtube.com/watch?v=l1KzjjKxqaA\n",
    "!wget https://zihao-openmmlab.obs.cn-east-3.myhuaweicloud.com/20220418-mmtracking/data/billiards1.mp4 -O data/billiards1.mp4\n",
    "!wget https://zihao-openmmlab.obs.cn-east-3.myhuaweicloud.com/20220418-mmtracking/data/billiards2.mp4 -O data/billiards2.mp4\n",
    "\n",
    "# Fancy billiard video, source：https://www.youtube.com/watch?v=QfKEyPtbVas\n",
    "!wget https://zihao-openmmlab.obs.cn-east-3.myhuaweicloud.com/20220418-mmtracking/data/billiards3.mp4 -O data/billiards3.mp4\n",
    "\n",
    "# Fancy billiard video, source：https://www.bilibili.com/video/BV1Es41187Y4\n",
    "!wget https://zihao-openmmlab.obs.cn-east-3.myhuaweicloud.com/20220418-mmtracking/data/billiards4.mp4 -O data/billiards4.mp4\n",
    "\n",
    "#Video, source of traffic detection：https://www.bilibili.com/video/BV1fE411w7ac\n",
    "!wget https://zihao-openmmlab.obs.cn-east-3.myhuaweicloud.com/20220418-mmtracking/data/mot_people_short.mp4 -O data/mot_people_short.mp4\n",
    "!wget https://zihao-openmmlab.obs.cn-east-3.myhuaweicloud.com/20220418-mmtracking/data/mot_people_medium.mp4 -O data/mot_people_medium.mp4\n",
    "!wget https://zihao-openmmlab.obs.cn-east-3.myhuaweicloud.com/20220418-mmtracking/data/mot_people_long.mp4 -O data/mot_people_long.mp4\n",
    "\n",
    "# Single target detection gt_box_file.txt file\n",
    "!wget https://zihao-openmmlab.obs.cn-east-3.myhuaweicloud.com/20220418-mmtracking/data/gt_box_file.txt -O data/gt_box_file.txt"
   ]
  },
  {
   "cell_type": "markdown",
   "metadata": {},
   "source": [
    "## Check whether the installation is successful"
   ]
  },
  {
   "cell_type": "code",
   "execution_count": 8,
   "metadata": {},
   "outputs": [
    {
     "data": {
      "text/plain": [
       "OrderedDict([('sys.platform', 'linux'),\n",
       "             ('Python', '3.8.10 (default, Nov 22 2023, 10:22:35) [GCC 9.4.0]'),\n",
       "             ('CUDA available', True),\n",
       "             ('MUSA available', False),\n",
       "             ('numpy_random_seed', 2147483648),\n",
       "             ('GPU 0', 'NVIDIA GeForce GTX 1050 Ti'),\n",
       "             ('CUDA_HOME', '/usr'),\n",
       "             ('NVCC', 'Cuda compilation tools, release 10.1, V10.1.24'),\n",
       "             ('GCC',\n",
       "              'x86_64-linux-gnu-gcc (Ubuntu 9.4.0-1ubuntu1~20.04.2) 9.4.0'),\n",
       "             ('PyTorch', '1.12.1+cu113'),\n",
       "             ('PyTorch compiling details',\n",
       "              'PyTorch built with:\\n  - GCC 9.3\\n  - C++ Version: 201402\\n  - Intel(R) Math Kernel Library Version 2020.0.0 Product Build 20191122 for Intel(R) 64 architecture applications\\n  - Intel(R) MKL-DNN v2.6.0 (Git Hash 52b5f107dd9cf10910aaa19cb47f3abf9b349815)\\n  - OpenMP 201511 (a.k.a. OpenMP 4.5)\\n  - LAPACK is enabled (usually provided by MKL)\\n  - NNPACK is enabled\\n  - CPU capability usage: AVX2\\n  - CUDA Runtime 11.3\\n  - NVCC architecture flags: -gencode;arch=compute_37,code=sm_37;-gencode;arch=compute_50,code=sm_50;-gencode;arch=compute_60,code=sm_60;-gencode;arch=compute_70,code=sm_70;-gencode;arch=compute_75,code=sm_75;-gencode;arch=compute_80,code=sm_80;-gencode;arch=compute_86,code=sm_86\\n  - CuDNN 8.3.2  (built against CUDA 11.5)\\n  - Magma 2.5.2\\n  - Build settings: BLAS_INFO=mkl, BUILD_TYPE=Release, CUDA_VERSION=11.3, CUDNN_VERSION=8.3.2, CXX_COMPILER=/opt/rh/devtoolset-9/root/usr/bin/c++, CXX_FLAGS= -fabi-version=11 -Wno-deprecated -fvisibility-inlines-hidden -DUSE_PTHREADPOOL -fopenmp -DNDEBUG -DUSE_KINETO -DUSE_FBGEMM -DUSE_QNNPACK -DUSE_PYTORCH_QNNPACK -DUSE_XNNPACK -DSYMBOLICATE_MOBILE_DEBUG_HANDLE -DEDGE_PROFILER_USE_KINETO -O2 -fPIC -Wno-narrowing -Wall -Wextra -Werror=return-type -Wno-missing-field-initializers -Wno-type-limits -Wno-array-bounds -Wno-unknown-pragmas -Wno-unused-parameter -Wno-unused-function -Wno-unused-result -Wno-unused-local-typedefs -Wno-strict-overflow -Wno-strict-aliasing -Wno-error=deprecated-declarations -Wno-stringop-overflow -Wno-psabi -Wno-error=pedantic -Wno-error=redundant-decls -Wno-error=old-style-cast -fdiagnostics-color=always -faligned-new -Wno-unused-but-set-variable -Wno-maybe-uninitialized -fno-math-errno -fno-trapping-math -Werror=format -Werror=cast-function-type -Wno-stringop-overflow, LAPACK_INFO=mkl, PERF_WITH_AVX=1, PERF_WITH_AVX2=1, PERF_WITH_AVX512=1, TORCH_VERSION=1.12.1, USE_CUDA=ON, USE_CUDNN=ON, USE_EXCEPTION_PTR=1, USE_GFLAGS=OFF, USE_GLOG=OFF, USE_MKL=ON, USE_MKLDNN=OFF, USE_MPI=OFF, USE_NCCL=ON, USE_NNPACK=ON, USE_OPENMP=ON, USE_ROCM=OFF, \\n'),\n",
       "             ('TorchVision', '0.13.1+cu113'),\n",
       "             ('OpenCV', '4.9.0'),\n",
       "             ('MMEngine', '0.10.3'),\n",
       "             ('MMCV', '2.1.0'),\n",
       "             ('MMCV Compiler', 'GCC 9.3'),\n",
       "             ('MMCV CUDA Compiler', '11.3')])"
      ]
     },
     "execution_count": 8,
     "metadata": {},
     "output_type": "execute_result"
    }
   ],
   "source": [
    "from mmcv.utils import collect_env\n",
    "collect_env()"
   ]
  },
  {
   "cell_type": "code",
   "execution_count": 1,
   "metadata": {},
   "outputs": [
    {
     "name": "stdout",
     "output_type": "stream",
     "text": [
      "Pytorch Version :  1.12.1+cu113\n",
      "\n",
      "CUDA :  True\n",
      "\n",
      "CUDA version 11.3\n",
      "\n",
      "Compiler version GCC 9.3\n",
      "\n",
      "MMDETECTION version 3.3.0\n",
      "\n",
      "mmtracking version 0.14.0\n",
      "\n",
      "Successful installation\n"
     ]
    }
   ],
   "source": [
    "# Examine Pytorch\n",
    "import torch, torchvision\n",
    "print('Pytorch Version : ', torch.__version__)\n",
    "print('\\nCUDA : ', torch.cuda.is_available())\n",
    "\n",
    "# Examine mmcv\n",
    "from mmcv.ops import get_compiling_cuda_version, get_compiler_version\n",
    "print('\\nCUDA version', get_compiling_cuda_version())\n",
    "print('\\nCompiler version', get_compiler_version())\n",
    "\n",
    "# Check MMDetection installation\n",
    "import mmdet\n",
    "print('\\nMMDETECTION version', mmdet.__version__)\n",
    "\n",
    "# Check MMTracking installation\n",
    "import mmtrack\n",
    "print('\\nmmtracking version', mmtrack.__version__)\n",
    "\n",
    "print('\\nSuccessful installation')"
   ]
  },
  {
   "cell_type": "markdown",
   "metadata": {},
   "source": [
    "## Small Scale Chopper"
   ]
  },
  {
   "cell_type": "markdown",
   "metadata": {},
   "source": [
    "Use the pre-trained Bytetrack Multi-Object Tracking model to track and predict the data/mot_people_short.mp4 file to generate outputs/output_a_mot_people_short.mp4 video files."
   ]
  },
  {
   "cell_type": "code",
   "execution_count": 3,
   "metadata": {},
   "outputs": [
    {
     "name": "stdout",
     "output_type": "stream",
     "text": [
      "Traceback (most recent call last):\n",
      "  File \"demo/demo_mot_vis.py\", line 9, in <module>\n",
      "    from mmtrack.apis import inference_mot, init_model\n",
      "  File \"/home/agasthya/MMTrack/mmtracking/mmtrack/apis/__init__.py\", line 2, in <module>\n",
      "    from .inference import inference_mot, inference_sot, inference_vid, init_model\n",
      "  File \"/home/agasthya/MMTrack/mmtracking/mmtrack/apis/inference.py\", line 10, in <module>\n",
      "    from mmcv.parallel import collate, scatter\n",
      "  File \"/home/agasthya/MMTrack/mmtrack/lib/python3.8/site-packages/mmcv/parallel/__init__.py\", line 6, in <module>\n",
      "    from .registry import MODULE_WRAPPERS\n",
      "  File \"/home/agasthya/MMTrack/mmtrack/lib/python3.8/site-packages/mmcv/parallel/registry.py\", line 4, in <module>\n",
      "    from mmcv.utils import Registry\n",
      "ImportError: cannot import name 'Registry' from 'mmcv.utils' (/home/agasthya/MMTrack/mmtrack/lib/python3.8/site-packages/mmcv/utils/__init__.py)\n"
     ]
    }
   ],
   "source": [
    "# Pedestrian\n",
    "!python demo/demo_mot_vis.py \\\n",
    "        configs/mot/bytetrack/bytetrack_yolox_x_crowdhuman_mot17-private-half.py \\\n",
    "        --checkpoint https://download.openmmlab.com/mmtracking/mot/bytetrack/bytetrack_yolox_x/bytetrack_yolox_x_crowdhuman_mot17-private-half_20211218_205500-1985c9f0.pth \\\n",
    "        --input data/mot_people_short.mp4 \\\n",
    "        --output outputs/A_mot_people_short.mp4"
   ]
  },
  {
   "cell_type": "code",
   "execution_count": null,
   "metadata": {},
   "outputs": [],
   "source": []
  }
 ],
 "metadata": {
  "kernelspec": {
   "display_name": "mmtrack",
   "language": "python",
   "name": "python3"
  },
  "language_info": {
   "codemirror_mode": {
    "name": "ipython",
    "version": 3
   },
   "file_extension": ".py",
   "mimetype": "text/x-python",
   "name": "python",
   "nbconvert_exporter": "python",
   "pygments_lexer": "ipython3",
   "version": "3.8.10"
  }
 },
 "nbformat": 4,
 "nbformat_minor": 2
}
